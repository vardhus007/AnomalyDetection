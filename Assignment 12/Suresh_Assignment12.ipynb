{
 "cells": [
  {
   "cell_type": "code",
   "execution_count": 1,
   "id": "5eec4005",
   "metadata": {},
   "outputs": [],
   "source": [
    "import numpy as np\n",
    "import plotly\n",
    "import pandas as pd\n",
    "import plotly.express as px\n",
    "import matplotlib.pyplot as plt\n",
    "import seaborn as sns"
   ]
  },
  {
   "cell_type": "code",
   "execution_count": 2,
   "id": "ac3fc0b8",
   "metadata": {},
   "outputs": [],
   "source": [
    "df = pd.read_csv(\"XYZloan_default_selected_vars.csv\")"
   ]
  },
  {
   "cell_type": "code",
   "execution_count": 3,
   "id": "3fded950",
   "metadata": {},
   "outputs": [
    {
     "data": {
      "text/html": [
       "<div>\n",
       "<style scoped>\n",
       "    .dataframe tbody tr th:only-of-type {\n",
       "        vertical-align: middle;\n",
       "    }\n",
       "\n",
       "    .dataframe tbody tr th {\n",
       "        vertical-align: top;\n",
       "    }\n",
       "\n",
       "    .dataframe thead th {\n",
       "        text-align: right;\n",
       "    }\n",
       "</style>\n",
       "<table border=\"1\" class=\"dataframe\">\n",
       "  <thead>\n",
       "    <tr style=\"text-align: right;\">\n",
       "      <th></th>\n",
       "      <th>Unnamed: 0</th>\n",
       "      <th>Unnamed: 0.1</th>\n",
       "      <th>id</th>\n",
       "      <th>loan_default</th>\n",
       "      <th>AP001</th>\n",
       "      <th>AP002</th>\n",
       "      <th>AP003</th>\n",
       "      <th>AP004</th>\n",
       "      <th>AP005</th>\n",
       "      <th>AP006</th>\n",
       "      <th>...</th>\n",
       "      <th>CD162</th>\n",
       "      <th>CD164</th>\n",
       "      <th>CD166</th>\n",
       "      <th>CD167</th>\n",
       "      <th>CD169</th>\n",
       "      <th>CD170</th>\n",
       "      <th>CD172</th>\n",
       "      <th>CD173</th>\n",
       "      <th>MB005</th>\n",
       "      <th>MB007</th>\n",
       "    </tr>\n",
       "  </thead>\n",
       "  <tbody>\n",
       "    <tr>\n",
       "      <th>0</th>\n",
       "      <td>0</td>\n",
       "      <td>1</td>\n",
       "      <td>1</td>\n",
       "      <td>1</td>\n",
       "      <td>31</td>\n",
       "      <td>2</td>\n",
       "      <td>1</td>\n",
       "      <td>12</td>\n",
       "      <td>2017/7/6 10:21</td>\n",
       "      <td>ios</td>\n",
       "      <td>...</td>\n",
       "      <td>13.0</td>\n",
       "      <td>13.0</td>\n",
       "      <td>0.0</td>\n",
       "      <td>0.0</td>\n",
       "      <td>1449.0</td>\n",
       "      <td>1449.0</td>\n",
       "      <td>2249.0</td>\n",
       "      <td>2249.0</td>\n",
       "      <td>7.0</td>\n",
       "      <td>IPHONE7</td>\n",
       "    </tr>\n",
       "    <tr>\n",
       "      <th>1</th>\n",
       "      <td>1</td>\n",
       "      <td>2</td>\n",
       "      <td>2</td>\n",
       "      <td>0</td>\n",
       "      <td>27</td>\n",
       "      <td>1</td>\n",
       "      <td>1</td>\n",
       "      <td>12</td>\n",
       "      <td>2017/4/6 12:51</td>\n",
       "      <td>h5</td>\n",
       "      <td>...</td>\n",
       "      <td>-99.0</td>\n",
       "      <td>-99.0</td>\n",
       "      <td>-99.0</td>\n",
       "      <td>-99.0</td>\n",
       "      <td>-99.0</td>\n",
       "      <td>-99.0</td>\n",
       "      <td>-99.0</td>\n",
       "      <td>-99.0</td>\n",
       "      <td>NaN</td>\n",
       "      <td>WEB</td>\n",
       "    </tr>\n",
       "    <tr>\n",
       "      <th>2</th>\n",
       "      <td>2</td>\n",
       "      <td>3</td>\n",
       "      <td>3</td>\n",
       "      <td>0</td>\n",
       "      <td>33</td>\n",
       "      <td>1</td>\n",
       "      <td>4</td>\n",
       "      <td>12</td>\n",
       "      <td>2017/7/1 14:11</td>\n",
       "      <td>h5</td>\n",
       "      <td>...</td>\n",
       "      <td>3.0</td>\n",
       "      <td>2.0</td>\n",
       "      <td>33.0</td>\n",
       "      <td>0.0</td>\n",
       "      <td>33.0</td>\n",
       "      <td>0.0</td>\n",
       "      <td>143.0</td>\n",
       "      <td>110.0</td>\n",
       "      <td>8.0</td>\n",
       "      <td>WEB</td>\n",
       "    </tr>\n",
       "    <tr>\n",
       "      <th>3</th>\n",
       "      <td>3</td>\n",
       "      <td>4</td>\n",
       "      <td>4</td>\n",
       "      <td>0</td>\n",
       "      <td>34</td>\n",
       "      <td>2</td>\n",
       "      <td>4</td>\n",
       "      <td>12</td>\n",
       "      <td>2017/7/7 10:10</td>\n",
       "      <td>android</td>\n",
       "      <td>...</td>\n",
       "      <td>0.0</td>\n",
       "      <td>0.0</td>\n",
       "      <td>0.0</td>\n",
       "      <td>0.0</td>\n",
       "      <td>0.0</td>\n",
       "      <td>0.0</td>\n",
       "      <td>0.0</td>\n",
       "      <td>0.0</td>\n",
       "      <td>10.0</td>\n",
       "      <td>OPPO</td>\n",
       "    </tr>\n",
       "    <tr>\n",
       "      <th>4</th>\n",
       "      <td>4</td>\n",
       "      <td>5</td>\n",
       "      <td>5</td>\n",
       "      <td>0</td>\n",
       "      <td>47</td>\n",
       "      <td>2</td>\n",
       "      <td>1</td>\n",
       "      <td>12</td>\n",
       "      <td>2017/7/6 14:37</td>\n",
       "      <td>h5</td>\n",
       "      <td>...</td>\n",
       "      <td>-99.0</td>\n",
       "      <td>-99.0</td>\n",
       "      <td>-99.0</td>\n",
       "      <td>-99.0</td>\n",
       "      <td>-99.0</td>\n",
       "      <td>-99.0</td>\n",
       "      <td>-99.0</td>\n",
       "      <td>-99.0</td>\n",
       "      <td>NaN</td>\n",
       "      <td>WEB</td>\n",
       "    </tr>\n",
       "    <tr>\n",
       "      <th>...</th>\n",
       "      <td>...</td>\n",
       "      <td>...</td>\n",
       "      <td>...</td>\n",
       "      <td>...</td>\n",
       "      <td>...</td>\n",
       "      <td>...</td>\n",
       "      <td>...</td>\n",
       "      <td>...</td>\n",
       "      <td>...</td>\n",
       "      <td>...</td>\n",
       "      <td>...</td>\n",
       "      <td>...</td>\n",
       "      <td>...</td>\n",
       "      <td>...</td>\n",
       "      <td>...</td>\n",
       "      <td>...</td>\n",
       "      <td>...</td>\n",
       "      <td>...</td>\n",
       "      <td>...</td>\n",
       "      <td>...</td>\n",
       "      <td>...</td>\n",
       "    </tr>\n",
       "    <tr>\n",
       "      <th>79995</th>\n",
       "      <td>79995</td>\n",
       "      <td>79996</td>\n",
       "      <td>79996</td>\n",
       "      <td>0</td>\n",
       "      <td>39</td>\n",
       "      <td>2</td>\n",
       "      <td>1</td>\n",
       "      <td>12</td>\n",
       "      <td>2017/5/7 13:44</td>\n",
       "      <td>android</td>\n",
       "      <td>...</td>\n",
       "      <td>15.0</td>\n",
       "      <td>8.0</td>\n",
       "      <td>864.0</td>\n",
       "      <td>684.0</td>\n",
       "      <td>1261.0</td>\n",
       "      <td>764.0</td>\n",
       "      <td>2600.0</td>\n",
       "      <td>1074.0</td>\n",
       "      <td>11.0</td>\n",
       "      <td>OPPO</td>\n",
       "    </tr>\n",
       "    <tr>\n",
       "      <th>79996</th>\n",
       "      <td>79996</td>\n",
       "      <td>79997</td>\n",
       "      <td>79997</td>\n",
       "      <td>0</td>\n",
       "      <td>31</td>\n",
       "      <td>1</td>\n",
       "      <td>4</td>\n",
       "      <td>12</td>\n",
       "      <td>2017/6/2 15:54</td>\n",
       "      <td>ios</td>\n",
       "      <td>...</td>\n",
       "      <td>25.0</td>\n",
       "      <td>25.0</td>\n",
       "      <td>6177.0</td>\n",
       "      <td>6177.0</td>\n",
       "      <td>6426.0</td>\n",
       "      <td>6426.0</td>\n",
       "      <td>6426.0</td>\n",
       "      <td>6426.0</td>\n",
       "      <td>6.0</td>\n",
       "      <td>IPHONE7</td>\n",
       "    </tr>\n",
       "    <tr>\n",
       "      <th>79997</th>\n",
       "      <td>79997</td>\n",
       "      <td>79998</td>\n",
       "      <td>79998</td>\n",
       "      <td>0</td>\n",
       "      <td>37</td>\n",
       "      <td>1</td>\n",
       "      <td>1</td>\n",
       "      <td>12</td>\n",
       "      <td>2017/7/9 8:40</td>\n",
       "      <td>android</td>\n",
       "      <td>...</td>\n",
       "      <td>14.0</td>\n",
       "      <td>13.0</td>\n",
       "      <td>1116.0</td>\n",
       "      <td>1116.0</td>\n",
       "      <td>2061.0</td>\n",
       "      <td>2061.0</td>\n",
       "      <td>2501.0</td>\n",
       "      <td>2061.0</td>\n",
       "      <td>12.0</td>\n",
       "      <td>VIVO</td>\n",
       "    </tr>\n",
       "    <tr>\n",
       "      <th>79998</th>\n",
       "      <td>79998</td>\n",
       "      <td>79999</td>\n",
       "      <td>79999</td>\n",
       "      <td>0</td>\n",
       "      <td>38</td>\n",
       "      <td>2</td>\n",
       "      <td>1</td>\n",
       "      <td>12</td>\n",
       "      <td>2017/5/9 10:19</td>\n",
       "      <td>android</td>\n",
       "      <td>...</td>\n",
       "      <td>5.0</td>\n",
       "      <td>2.0</td>\n",
       "      <td>25.0</td>\n",
       "      <td>0.0</td>\n",
       "      <td>498.0</td>\n",
       "      <td>343.0</td>\n",
       "      <td>514.0</td>\n",
       "      <td>343.0</td>\n",
       "      <td>6.0</td>\n",
       "      <td>XIAOMI</td>\n",
       "    </tr>\n",
       "    <tr>\n",
       "      <th>79999</th>\n",
       "      <td>79999</td>\n",
       "      <td>80000</td>\n",
       "      <td>80000</td>\n",
       "      <td>1</td>\n",
       "      <td>25</td>\n",
       "      <td>1</td>\n",
       "      <td>3</td>\n",
       "      <td>12</td>\n",
       "      <td>2017/4/27 18:36</td>\n",
       "      <td>h5</td>\n",
       "      <td>...</td>\n",
       "      <td>9.0</td>\n",
       "      <td>9.0</td>\n",
       "      <td>129.0</td>\n",
       "      <td>129.0</td>\n",
       "      <td>167.0</td>\n",
       "      <td>167.0</td>\n",
       "      <td>167.0</td>\n",
       "      <td>167.0</td>\n",
       "      <td>7.0</td>\n",
       "      <td>WEB</td>\n",
       "    </tr>\n",
       "  </tbody>\n",
       "</table>\n",
       "<p>80000 rows × 89 columns</p>\n",
       "</div>"
      ],
      "text/plain": [
       "       Unnamed: 0  Unnamed: 0.1     id  loan_default  AP001  AP002  AP003  \\\n",
       "0               0             1      1             1     31      2      1   \n",
       "1               1             2      2             0     27      1      1   \n",
       "2               2             3      3             0     33      1      4   \n",
       "3               3             4      4             0     34      2      4   \n",
       "4               4             5      5             0     47      2      1   \n",
       "...           ...           ...    ...           ...    ...    ...    ...   \n",
       "79995       79995         79996  79996             0     39      2      1   \n",
       "79996       79996         79997  79997             0     31      1      4   \n",
       "79997       79997         79998  79998             0     37      1      1   \n",
       "79998       79998         79999  79999             0     38      2      1   \n",
       "79999       79999         80000  80000             1     25      1      3   \n",
       "\n",
       "       AP004            AP005    AP006  ...  CD162  CD164   CD166   CD167  \\\n",
       "0         12   2017/7/6 10:21      ios  ...   13.0   13.0     0.0     0.0   \n",
       "1         12   2017/4/6 12:51       h5  ...  -99.0  -99.0   -99.0   -99.0   \n",
       "2         12   2017/7/1 14:11       h5  ...    3.0    2.0    33.0     0.0   \n",
       "3         12   2017/7/7 10:10  android  ...    0.0    0.0     0.0     0.0   \n",
       "4         12   2017/7/6 14:37       h5  ...  -99.0  -99.0   -99.0   -99.0   \n",
       "...      ...              ...      ...  ...    ...    ...     ...     ...   \n",
       "79995     12   2017/5/7 13:44  android  ...   15.0    8.0   864.0   684.0   \n",
       "79996     12   2017/6/2 15:54      ios  ...   25.0   25.0  6177.0  6177.0   \n",
       "79997     12    2017/7/9 8:40  android  ...   14.0   13.0  1116.0  1116.0   \n",
       "79998     12   2017/5/9 10:19  android  ...    5.0    2.0    25.0     0.0   \n",
       "79999     12  2017/4/27 18:36       h5  ...    9.0    9.0   129.0   129.0   \n",
       "\n",
       "        CD169   CD170   CD172   CD173  MB005    MB007  \n",
       "0      1449.0  1449.0  2249.0  2249.0    7.0  IPHONE7  \n",
       "1       -99.0   -99.0   -99.0   -99.0    NaN      WEB  \n",
       "2        33.0     0.0   143.0   110.0    8.0      WEB  \n",
       "3         0.0     0.0     0.0     0.0   10.0     OPPO  \n",
       "4       -99.0   -99.0   -99.0   -99.0    NaN      WEB  \n",
       "...       ...     ...     ...     ...    ...      ...  \n",
       "79995  1261.0   764.0  2600.0  1074.0   11.0     OPPO  \n",
       "79996  6426.0  6426.0  6426.0  6426.0    6.0  IPHONE7  \n",
       "79997  2061.0  2061.0  2501.0  2061.0   12.0     VIVO  \n",
       "79998   498.0   343.0   514.0   343.0    6.0   XIAOMI  \n",
       "79999   167.0   167.0   167.0   167.0    7.0      WEB  \n",
       "\n",
       "[80000 rows x 89 columns]"
      ]
     },
     "execution_count": 3,
     "metadata": {},
     "output_type": "execute_result"
    }
   ],
   "source": [
    "df"
   ]
  },
  {
   "cell_type": "code",
   "execution_count": 4,
   "id": "818031c8",
   "metadata": {},
   "outputs": [],
   "source": [
    "df[\"AP005\"] =  pd.to_datetime(df[\"AP005\"])\n",
    "df['hour'] = df['AP005'].dt.hour\n",
    "df['dayofweek'] = df['AP005'].dt.dayofweek\n",
    "df['day'] = df['AP005'].dt.day\n",
    "df['month'] = df['AP005'].dt.month\n",
    "df['year'] = df['AP005'].dt.year"
   ]
  },
  {
   "cell_type": "code",
   "execution_count": 5,
   "id": "9eab1eaa",
   "metadata": {},
   "outputs": [
    {
     "data": {
      "text/html": [
       "<div>\n",
       "<style scoped>\n",
       "    .dataframe tbody tr th:only-of-type {\n",
       "        vertical-align: middle;\n",
       "    }\n",
       "\n",
       "    .dataframe tbody tr th {\n",
       "        vertical-align: top;\n",
       "    }\n",
       "\n",
       "    .dataframe thead th {\n",
       "        text-align: right;\n",
       "    }\n",
       "</style>\n",
       "<table border=\"1\" class=\"dataframe\">\n",
       "  <thead>\n",
       "    <tr style=\"text-align: right;\">\n",
       "      <th></th>\n",
       "      <th>Unnamed: 0</th>\n",
       "      <th>Unnamed: 0.1</th>\n",
       "      <th>id</th>\n",
       "      <th>loan_default</th>\n",
       "      <th>AP001</th>\n",
       "      <th>AP002</th>\n",
       "      <th>AP003</th>\n",
       "      <th>AP004</th>\n",
       "      <th>AP005</th>\n",
       "      <th>AP006</th>\n",
       "      <th>...</th>\n",
       "      <th>CD170</th>\n",
       "      <th>CD172</th>\n",
       "      <th>CD173</th>\n",
       "      <th>MB005</th>\n",
       "      <th>MB007</th>\n",
       "      <th>hour</th>\n",
       "      <th>dayofweek</th>\n",
       "      <th>day</th>\n",
       "      <th>month</th>\n",
       "      <th>year</th>\n",
       "    </tr>\n",
       "  </thead>\n",
       "  <tbody>\n",
       "    <tr>\n",
       "      <th>0</th>\n",
       "      <td>0</td>\n",
       "      <td>1</td>\n",
       "      <td>1</td>\n",
       "      <td>1</td>\n",
       "      <td>31</td>\n",
       "      <td>2</td>\n",
       "      <td>1</td>\n",
       "      <td>12</td>\n",
       "      <td>2017-07-06 10:21:00</td>\n",
       "      <td>ios</td>\n",
       "      <td>...</td>\n",
       "      <td>1449.0</td>\n",
       "      <td>2249.0</td>\n",
       "      <td>2249.0</td>\n",
       "      <td>7.0</td>\n",
       "      <td>IPHONE7</td>\n",
       "      <td>10</td>\n",
       "      <td>3</td>\n",
       "      <td>6</td>\n",
       "      <td>7</td>\n",
       "      <td>2017</td>\n",
       "    </tr>\n",
       "    <tr>\n",
       "      <th>1</th>\n",
       "      <td>1</td>\n",
       "      <td>2</td>\n",
       "      <td>2</td>\n",
       "      <td>0</td>\n",
       "      <td>27</td>\n",
       "      <td>1</td>\n",
       "      <td>1</td>\n",
       "      <td>12</td>\n",
       "      <td>2017-04-06 12:51:00</td>\n",
       "      <td>h5</td>\n",
       "      <td>...</td>\n",
       "      <td>-99.0</td>\n",
       "      <td>-99.0</td>\n",
       "      <td>-99.0</td>\n",
       "      <td>NaN</td>\n",
       "      <td>WEB</td>\n",
       "      <td>12</td>\n",
       "      <td>3</td>\n",
       "      <td>6</td>\n",
       "      <td>4</td>\n",
       "      <td>2017</td>\n",
       "    </tr>\n",
       "    <tr>\n",
       "      <th>2</th>\n",
       "      <td>2</td>\n",
       "      <td>3</td>\n",
       "      <td>3</td>\n",
       "      <td>0</td>\n",
       "      <td>33</td>\n",
       "      <td>1</td>\n",
       "      <td>4</td>\n",
       "      <td>12</td>\n",
       "      <td>2017-07-01 14:11:00</td>\n",
       "      <td>h5</td>\n",
       "      <td>...</td>\n",
       "      <td>0.0</td>\n",
       "      <td>143.0</td>\n",
       "      <td>110.0</td>\n",
       "      <td>8.0</td>\n",
       "      <td>WEB</td>\n",
       "      <td>14</td>\n",
       "      <td>5</td>\n",
       "      <td>1</td>\n",
       "      <td>7</td>\n",
       "      <td>2017</td>\n",
       "    </tr>\n",
       "    <tr>\n",
       "      <th>3</th>\n",
       "      <td>3</td>\n",
       "      <td>4</td>\n",
       "      <td>4</td>\n",
       "      <td>0</td>\n",
       "      <td>34</td>\n",
       "      <td>2</td>\n",
       "      <td>4</td>\n",
       "      <td>12</td>\n",
       "      <td>2017-07-07 10:10:00</td>\n",
       "      <td>android</td>\n",
       "      <td>...</td>\n",
       "      <td>0.0</td>\n",
       "      <td>0.0</td>\n",
       "      <td>0.0</td>\n",
       "      <td>10.0</td>\n",
       "      <td>OPPO</td>\n",
       "      <td>10</td>\n",
       "      <td>4</td>\n",
       "      <td>7</td>\n",
       "      <td>7</td>\n",
       "      <td>2017</td>\n",
       "    </tr>\n",
       "    <tr>\n",
       "      <th>4</th>\n",
       "      <td>4</td>\n",
       "      <td>5</td>\n",
       "      <td>5</td>\n",
       "      <td>0</td>\n",
       "      <td>47</td>\n",
       "      <td>2</td>\n",
       "      <td>1</td>\n",
       "      <td>12</td>\n",
       "      <td>2017-07-06 14:37:00</td>\n",
       "      <td>h5</td>\n",
       "      <td>...</td>\n",
       "      <td>-99.0</td>\n",
       "      <td>-99.0</td>\n",
       "      <td>-99.0</td>\n",
       "      <td>NaN</td>\n",
       "      <td>WEB</td>\n",
       "      <td>14</td>\n",
       "      <td>3</td>\n",
       "      <td>6</td>\n",
       "      <td>7</td>\n",
       "      <td>2017</td>\n",
       "    </tr>\n",
       "    <tr>\n",
       "      <th>...</th>\n",
       "      <td>...</td>\n",
       "      <td>...</td>\n",
       "      <td>...</td>\n",
       "      <td>...</td>\n",
       "      <td>...</td>\n",
       "      <td>...</td>\n",
       "      <td>...</td>\n",
       "      <td>...</td>\n",
       "      <td>...</td>\n",
       "      <td>...</td>\n",
       "      <td>...</td>\n",
       "      <td>...</td>\n",
       "      <td>...</td>\n",
       "      <td>...</td>\n",
       "      <td>...</td>\n",
       "      <td>...</td>\n",
       "      <td>...</td>\n",
       "      <td>...</td>\n",
       "      <td>...</td>\n",
       "      <td>...</td>\n",
       "      <td>...</td>\n",
       "    </tr>\n",
       "    <tr>\n",
       "      <th>79995</th>\n",
       "      <td>79995</td>\n",
       "      <td>79996</td>\n",
       "      <td>79996</td>\n",
       "      <td>0</td>\n",
       "      <td>39</td>\n",
       "      <td>2</td>\n",
       "      <td>1</td>\n",
       "      <td>12</td>\n",
       "      <td>2017-05-07 13:44:00</td>\n",
       "      <td>android</td>\n",
       "      <td>...</td>\n",
       "      <td>764.0</td>\n",
       "      <td>2600.0</td>\n",
       "      <td>1074.0</td>\n",
       "      <td>11.0</td>\n",
       "      <td>OPPO</td>\n",
       "      <td>13</td>\n",
       "      <td>6</td>\n",
       "      <td>7</td>\n",
       "      <td>5</td>\n",
       "      <td>2017</td>\n",
       "    </tr>\n",
       "    <tr>\n",
       "      <th>79996</th>\n",
       "      <td>79996</td>\n",
       "      <td>79997</td>\n",
       "      <td>79997</td>\n",
       "      <td>0</td>\n",
       "      <td>31</td>\n",
       "      <td>1</td>\n",
       "      <td>4</td>\n",
       "      <td>12</td>\n",
       "      <td>2017-06-02 15:54:00</td>\n",
       "      <td>ios</td>\n",
       "      <td>...</td>\n",
       "      <td>6426.0</td>\n",
       "      <td>6426.0</td>\n",
       "      <td>6426.0</td>\n",
       "      <td>6.0</td>\n",
       "      <td>IPHONE7</td>\n",
       "      <td>15</td>\n",
       "      <td>4</td>\n",
       "      <td>2</td>\n",
       "      <td>6</td>\n",
       "      <td>2017</td>\n",
       "    </tr>\n",
       "    <tr>\n",
       "      <th>79997</th>\n",
       "      <td>79997</td>\n",
       "      <td>79998</td>\n",
       "      <td>79998</td>\n",
       "      <td>0</td>\n",
       "      <td>37</td>\n",
       "      <td>1</td>\n",
       "      <td>1</td>\n",
       "      <td>12</td>\n",
       "      <td>2017-07-09 08:40:00</td>\n",
       "      <td>android</td>\n",
       "      <td>...</td>\n",
       "      <td>2061.0</td>\n",
       "      <td>2501.0</td>\n",
       "      <td>2061.0</td>\n",
       "      <td>12.0</td>\n",
       "      <td>VIVO</td>\n",
       "      <td>8</td>\n",
       "      <td>6</td>\n",
       "      <td>9</td>\n",
       "      <td>7</td>\n",
       "      <td>2017</td>\n",
       "    </tr>\n",
       "    <tr>\n",
       "      <th>79998</th>\n",
       "      <td>79998</td>\n",
       "      <td>79999</td>\n",
       "      <td>79999</td>\n",
       "      <td>0</td>\n",
       "      <td>38</td>\n",
       "      <td>2</td>\n",
       "      <td>1</td>\n",
       "      <td>12</td>\n",
       "      <td>2017-05-09 10:19:00</td>\n",
       "      <td>android</td>\n",
       "      <td>...</td>\n",
       "      <td>343.0</td>\n",
       "      <td>514.0</td>\n",
       "      <td>343.0</td>\n",
       "      <td>6.0</td>\n",
       "      <td>XIAOMI</td>\n",
       "      <td>10</td>\n",
       "      <td>1</td>\n",
       "      <td>9</td>\n",
       "      <td>5</td>\n",
       "      <td>2017</td>\n",
       "    </tr>\n",
       "    <tr>\n",
       "      <th>79999</th>\n",
       "      <td>79999</td>\n",
       "      <td>80000</td>\n",
       "      <td>80000</td>\n",
       "      <td>1</td>\n",
       "      <td>25</td>\n",
       "      <td>1</td>\n",
       "      <td>3</td>\n",
       "      <td>12</td>\n",
       "      <td>2017-04-27 18:36:00</td>\n",
       "      <td>h5</td>\n",
       "      <td>...</td>\n",
       "      <td>167.0</td>\n",
       "      <td>167.0</td>\n",
       "      <td>167.0</td>\n",
       "      <td>7.0</td>\n",
       "      <td>WEB</td>\n",
       "      <td>18</td>\n",
       "      <td>3</td>\n",
       "      <td>27</td>\n",
       "      <td>4</td>\n",
       "      <td>2017</td>\n",
       "    </tr>\n",
       "  </tbody>\n",
       "</table>\n",
       "<p>80000 rows × 94 columns</p>\n",
       "</div>"
      ],
      "text/plain": [
       "       Unnamed: 0  Unnamed: 0.1     id  loan_default  AP001  AP002  AP003  \\\n",
       "0               0             1      1             1     31      2      1   \n",
       "1               1             2      2             0     27      1      1   \n",
       "2               2             3      3             0     33      1      4   \n",
       "3               3             4      4             0     34      2      4   \n",
       "4               4             5      5             0     47      2      1   \n",
       "...           ...           ...    ...           ...    ...    ...    ...   \n",
       "79995       79995         79996  79996             0     39      2      1   \n",
       "79996       79996         79997  79997             0     31      1      4   \n",
       "79997       79997         79998  79998             0     37      1      1   \n",
       "79998       79998         79999  79999             0     38      2      1   \n",
       "79999       79999         80000  80000             1     25      1      3   \n",
       "\n",
       "       AP004               AP005    AP006  ...   CD170   CD172   CD173  MB005  \\\n",
       "0         12 2017-07-06 10:21:00      ios  ...  1449.0  2249.0  2249.0    7.0   \n",
       "1         12 2017-04-06 12:51:00       h5  ...   -99.0   -99.0   -99.0    NaN   \n",
       "2         12 2017-07-01 14:11:00       h5  ...     0.0   143.0   110.0    8.0   \n",
       "3         12 2017-07-07 10:10:00  android  ...     0.0     0.0     0.0   10.0   \n",
       "4         12 2017-07-06 14:37:00       h5  ...   -99.0   -99.0   -99.0    NaN   \n",
       "...      ...                 ...      ...  ...     ...     ...     ...    ...   \n",
       "79995     12 2017-05-07 13:44:00  android  ...   764.0  2600.0  1074.0   11.0   \n",
       "79996     12 2017-06-02 15:54:00      ios  ...  6426.0  6426.0  6426.0    6.0   \n",
       "79997     12 2017-07-09 08:40:00  android  ...  2061.0  2501.0  2061.0   12.0   \n",
       "79998     12 2017-05-09 10:19:00  android  ...   343.0   514.0   343.0    6.0   \n",
       "79999     12 2017-04-27 18:36:00       h5  ...   167.0   167.0   167.0    7.0   \n",
       "\n",
       "         MB007  hour  dayofweek  day  month  year  \n",
       "0      IPHONE7    10          3    6      7  2017  \n",
       "1          WEB    12          3    6      4  2017  \n",
       "2          WEB    14          5    1      7  2017  \n",
       "3         OPPO    10          4    7      7  2017  \n",
       "4          WEB    14          3    6      7  2017  \n",
       "...        ...   ...        ...  ...    ...   ...  \n",
       "79995     OPPO    13          6    7      5  2017  \n",
       "79996  IPHONE7    15          4    2      6  2017  \n",
       "79997     VIVO     8          6    9      7  2017  \n",
       "79998   XIAOMI    10          1    9      5  2017  \n",
       "79999      WEB    18          3   27      4  2017  \n",
       "\n",
       "[80000 rows x 94 columns]"
      ]
     },
     "execution_count": 5,
     "metadata": {},
     "output_type": "execute_result"
    }
   ],
   "source": [
    "df"
   ]
  },
  {
   "cell_type": "markdown",
   "id": "6f23ebbf",
   "metadata": {},
   "source": [
    "## Age"
   ]
  },
  {
   "cell_type": "code",
   "execution_count": 6,
   "id": "66dc32b3",
   "metadata": {},
   "outputs": [],
   "source": [
    "mean = df.groupby('month').mean()['AP001'].tolist()\n",
    "median = df.groupby('month').median()['AP001'].tolist()\n",
    "std = df.groupby('month').std()['AP001'].tolist()\n",
    "month = df['month'].unique().tolist()"
   ]
  },
  {
   "cell_type": "code",
   "execution_count": 96,
   "id": "8cb631e0",
   "metadata": {},
   "outputs": [],
   "source": [
    "def clustered_bar_graph(label,mean,median,std):    \n",
    "    labels = label\n",
    "\n",
    "    # create data\n",
    "    x = np.arange(5)\n",
    "    y1 = mean\n",
    "    y2 = median\n",
    "    y3 = std\n",
    "    width = 0.2\n",
    "\n",
    "    # plot data in grouped manner of bar type\n",
    "    plt.bar(x-0.2, y1, width)#, color='cyan')\n",
    "    plt.bar(x, y2, width)#, color='orange')\n",
    "    plt.bar(x+0.2, y3, width)#, color='green')\n",
    "    plt.xticks(x, labels)\n",
    "    plt.xlabel(\"Months\")\n",
    "    plt.ylabel(\"Metrics\")\n",
    "    plt.legend([\"Mean\", \"Median\", \"Std. Dev.\"])\n",
    "    plt.show()"
   ]
  },
  {
   "cell_type": "code",
   "execution_count": 59,
   "id": "4d5e1877",
   "metadata": {},
   "outputs": [
    {
     "data": {
      "image/png": "[encoded data removed]",
      "text/plain": [
       "<Figure size 432x288 with 1 Axes>"
      ]
     },
     "metadata": {
      "needs_background": "light"
     },
     "output_type": "display_data"
    }
   ],
   "source": [
    "clustered_bar_graph(month,mean,median,std)"
   ]
  },
  {
   "cell_type": "markdown",
   "id": "fdf48786",
   "metadata": {},
   "source": [
    "## Gender"
   ]
  },
  {
   "cell_type": "code",
   "execution_count": 7,
   "id": "f5a834b1",
   "metadata": {},
   "outputs": [
    {
     "data": {
      "text/plain": [
       "month  AP002\n",
       "3      1          300\n",
       "       2          105\n",
       "4      1        13016\n",
       "       2         5336\n",
       "5      1        16170\n",
       "       2         7609\n",
       "6      1        16115\n",
       "       2         8271\n",
       "7      1         8654\n",
       "       2         4424\n",
       "Name: id, dtype: int64"
      ]
     },
     "execution_count": 7,
     "metadata": {},
     "output_type": "execute_result"
    }
   ],
   "source": [
    "df.groupby(['month','AP002']).count()['id']"
   ]
  },
  {
   "cell_type": "code",
   "execution_count": 49,
   "id": "e52d5d72",
   "metadata": {},
   "outputs": [],
   "source": [
    "month = ['Mar','Apr','May','Jun','Jul']\n",
    "one = [300, 13016, 16170, 16115, 8654]\n",
    "two = [105, 5336, 7609, 8271, 4424]"
   ]
  },
  {
   "cell_type": "code",
   "execution_count": 38,
   "id": "4a545ae8",
   "metadata": {},
   "outputs": [
    {
     "data": {
      "image/png": "[encoded data removed]",
      "text/plain": [
       "<Figure size 432x288 with 1 Axes>"
      ]
     },
     "metadata": {
      "needs_background": "light"
     },
     "output_type": "display_data"
    }
   ],
   "source": [
    "labels = month #['G1', 'G2', 'G3', 'G4', 'G5']\n",
    "men_means = one #[20, 34, 30, 35, 27]\n",
    "women_means = two #[25, 32, 34, 20, 25]\n",
    "\n",
    "x = np.arange(len(labels))  # the label locations\n",
    "width = 0.35  # the width of the bars\n",
    "\n",
    "fig, ax = plt.subplots()\n",
    "rects1 = ax.bar(x - width/2, men_means, width, label='Men')\n",
    "rects2 = ax.bar(x + width/2, women_means, width, label='Women')\n",
    "\n",
    "# Add some text for labels, title and custom x-axis tick labels, etc.\n",
    "ax.set_ylabel('Count')\n",
    "ax.set_xlabel('Months')\n",
    "ax.set_title(' Count by Gender')\n",
    "#ax.set_xticks(list(x), labels)\n",
    "ax.set_xticks([0, 1, 2, 3, 4])\n",
    "ax.set_xticklabels(labels)\n",
    "ax.legend()\n",
    "\n",
    "ax.bar_label(rects1, padding=3)\n",
    "ax.bar_label(rects2, padding=3)\n",
    "\n",
    "fig.tight_layout()\n",
    "\n",
    "plt.show()"
   ]
  },
  {
   "cell_type": "code",
   "execution_count": 21,
   "id": "a31f18fe",
   "metadata": {},
   "outputs": [
    {
     "data": {
      "text/plain": [
       "[0, 1, 2, 3, 4]"
      ]
     },
     "execution_count": 21,
     "metadata": {},
     "output_type": "execute_result"
    }
   ],
   "source": [
    "list(x)"
   ]
  },
  {
   "cell_type": "code",
   "execution_count": 30,
   "id": "043ce226",
   "metadata": {},
   "outputs": [
    {
     "data": {
      "text/plain": [
       "['Mar', 'Apr', 'May', 'Jun', 'Jul']"
      ]
     },
     "execution_count": 30,
     "metadata": {},
     "output_type": "execute_result"
    }
   ],
   "source": [
    "labels"
   ]
  },
  {
   "cell_type": "markdown",
   "id": "ceb8fd0f",
   "metadata": {},
   "source": [
    "## Default rate"
   ]
  },
  {
   "cell_type": "code",
   "execution_count": 43,
   "id": "4db66c97",
   "metadata": {},
   "outputs": [
    {
     "data": {
      "text/plain": [
       "month  AP002\n",
       "3      1          58\n",
       "       2          18\n",
       "4      1        2896\n",
       "       2         943\n",
       "5      1        3393\n",
       "       2        1388\n",
       "6      1        3160\n",
       "       2        1390\n",
       "7      1        1551\n",
       "       2         691\n",
       "Name: loan_default, dtype: int64"
      ]
     },
     "execution_count": 43,
     "metadata": {},
     "output_type": "execute_result"
    }
   ],
   "source": [
    "df.groupby(['month','AP002']).sum()['loan_default']"
   ]
  },
  {
   "cell_type": "code",
   "execution_count": 48,
   "id": "44772b27",
   "metadata": {},
   "outputs": [],
   "source": [
    "month = ['Mar','Apr','May','Jun','Jul']\n",
    "one_default = [58, 2896, 3393, 3160, 1551]\n",
    "two_default = [18, 943, 1388, 1390, 691]"
   ]
  },
  {
   "cell_type": "code",
   "execution_count": 47,
   "id": "d673b9f5",
   "metadata": {},
   "outputs": [
    {
     "data": {
      "image/png": "[encoded data removed]",
      "text/plain": [
       "<Figure size 432x288 with 1 Axes>"
      ]
     },
     "metadata": {
      "needs_background": "light"
     },
     "output_type": "display_data"
    }
   ],
   "source": [
    "labels = month #['G1', 'G2', 'G3', 'G4', 'G5']\n",
    "men_means = one #[20, 34, 30, 35, 27]\n",
    "women_means = two #[25, 32, 34, 20, 25]\n",
    "\n",
    "x = np.arange(len(labels))  # the label locations\n",
    "width = 0.35  # the width of the bars\n",
    "\n",
    "fig, ax = plt.subplots()\n",
    "rects1 = ax.bar(x - width/2, men_means, width, label='Men')\n",
    "rects2 = ax.bar(x + width/2, women_means, width, label='Women')\n",
    "\n",
    "# Add some text for labels, title and custom x-axis tick labels, etc.\n",
    "ax.set_ylabel('Count')\n",
    "ax.set_xlabel('Months')\n",
    "ax.set_title(' Deaults by Gender')\n",
    "#ax.set_xticks(list(x), labels)\n",
    "ax.set_xticks([0, 1, 2, 3, 4])\n",
    "ax.set_xticklabels(labels)\n",
    "ax.legend()\n",
    "\n",
    "ax.bar_label(rects1, padding=3)\n",
    "ax.bar_label(rects2, padding=3)\n",
    "\n",
    "fig.tight_layout()\n",
    "\n",
    "plt.show()"
   ]
  },
  {
   "cell_type": "code",
   "execution_count": 59,
   "id": "475dcb81",
   "metadata": {},
   "outputs": [],
   "source": [
    "one_per = [round(i / j * 100,1) for i, j in zip(one_default, one)]\n",
    "two_per = [round(i / j * 100,1) for i, j in zip(two_default, two)]"
   ]
  },
  {
   "cell_type": "code",
   "execution_count": 61,
   "id": "eceabff0",
   "metadata": {},
   "outputs": [
    {
     "data": {
      "image/png": "[encoded data removed]",
      "text/plain": [
       "<Figure size 432x288 with 1 Axes>"
      ]
     },
     "metadata": {
      "needs_background": "light"
     },
     "output_type": "display_data"
    }
   ],
   "source": [
    "labels = month #['G1', 'G2', 'G3', 'G4', 'G5']\n",
    "men_means = one_per #[20, 34, 30, 35, 27]\n",
    "women_means = two_per #[25, 32, 34, 20, 25]\n",
    "\n",
    "x = np.arange(len(labels))  # the label locations\n",
    "width = 0.35  # the width of the bars\n",
    "\n",
    "fig, ax = plt.subplots()\n",
    "rects1 = ax.bar(x - width/2, men_means, width, label='Men')\n",
    "rects2 = ax.bar(x + width/2, women_means, width, label='Women')\n",
    "\n",
    "# Add some text for labels, title and custom x-axis tick labels, etc.\n",
    "ax.set_ylabel('Count')\n",
    "ax.set_xlabel('Months')\n",
    "ax.set_title(' Defaults perccentage by Gender')\n",
    "#ax.set_xticks(list(x), labels)\n",
    "ax.set_xticks([0, 1, 2, 3, 4])\n",
    "ax.set_xticklabels(labels)\n",
    "ax.legend()\n",
    "\n",
    "ax.bar_label(rects1, padding=3)\n",
    "ax.bar_label(rects2, padding=3)\n",
    "\n",
    "fig.tight_layout()\n",
    "\n",
    "plt.show()"
   ]
  },
  {
   "cell_type": "markdown",
   "id": "6d151931",
   "metadata": {},
   "source": [
    "## Loan Term"
   ]
  },
  {
   "cell_type": "code",
   "execution_count": 89,
   "id": "03a5868d",
   "metadata": {},
   "outputs": [
    {
     "data": {
      "text/plain": [
       "month  AP004\n",
       "3      3           0\n",
       "       6           2\n",
       "       9           0\n",
       "       12         74\n",
       "4      3          40\n",
       "       6          72\n",
       "       9          92\n",
       "       12       3635\n",
       "5      3          46\n",
       "       6         114\n",
       "       9         128\n",
       "       12       4493\n",
       "6      3          38\n",
       "       6         129\n",
       "       9         150\n",
       "       12       4233\n",
       "7      3          18\n",
       "       6          65\n",
       "       9          53\n",
       "       12       2106\n",
       "Name: loan_default, dtype: int64"
      ]
     },
     "execution_count": 89,
     "metadata": {},
     "output_type": "execute_result"
    }
   ],
   "source": [
    "df.groupby(['month','AP004']).sum()['loan_default']"
   ]
  },
  {
   "cell_type": "code",
   "execution_count": 81,
   "id": "2d94d9ba",
   "metadata": {},
   "outputs": [],
   "source": [
    "month = ['Mar','Apr','May','Jun']\n",
    "mar = [9,15,11,370]\n",
    "apr = [833,931,559,16029]\n",
    "may = [1059,1176,669,20875]\n",
    "jun = [977,1186,737,21486]\n",
    "jul = [532,618,331,11597]"
   ]
  },
  {
   "cell_type": "code",
   "execution_count": 88,
   "id": "91e79470",
   "metadata": {},
   "outputs": [
    {
     "data": {
      "image/png": "[encoded data removed]",
      "text/plain": [
       "<Figure size 432x288 with 1 Axes>"
      ]
     },
     "metadata": {
      "needs_background": "light"
     },
     "output_type": "display_data"
    }
   ],
   "source": [
    "labels = month #['G1', 'G2', 'G3', 'G4', 'G5']\n",
    "men_means = mar #[20, 34, 30, 35, 27]\n",
    "women_means = apr #[25, 32, 34, 20, 25]\n",
    "\n",
    "x = np.arange(len(labels))  # the label locations\n",
    "width = 0.20#the width of the bars\n",
    "\n",
    "fig, ax = plt.subplots()\n",
    "rects1 = ax.bar(x - (width/4)*2, mar, width, label='March')\n",
    "rects2 = ax.bar(x - width/4, apr, width, label='April')\n",
    "rects3 = ax.bar(x + width/4, may, width, label='April')\n",
    "rects4 = ax.bar(x + (width/4)*2, jun, width, label='April')\n",
    "\n",
    "# Add some text for labels, title and custom x-axis tick labels, etc.\n",
    "ax.set_ylabel('Count')\n",
    "ax.set_xlabel('Months')\n",
    "ax.set_title(' Defaults perccentage by Gender')\n",
    "#ax.set_xticks(list(x), labels)\n",
    "ax.set_xticks([0, 1, 2, 3])\n",
    "ax.set_xticklabels(labels)\n",
    "ax.legend()\n",
    "\n",
    "ax.bar_label(rects1, padding=3)\n",
    "ax.bar_label(rects2, padding=3)\n",
    "ax.bar_label(rects3, padding=3)\n",
    "ax.bar_label(rects4, padding=3)\n",
    "\n",
    "fig.tight_layout()\n",
    "\n",
    "plt.show()"
   ]
  },
  {
   "cell_type": "markdown",
   "id": "bb572ba5",
   "metadata": {},
   "source": [
    "## Loan Amount"
   ]
  },
  {
   "cell_type": "code",
   "execution_count": 117,
   "id": "556ffb53",
   "metadata": {},
   "outputs": [],
   "source": [
    "mean = df.groupby(['month']).mean()['CR009']\n",
    "median = df.groupby(['month']).median()['CR009']\n",
    "std = df.groupby(['month']).std()['CR009']\n",
    "month = df['month'].unique().tolist()"
   ]
  },
  {
   "cell_type": "code",
   "execution_count": 118,
   "id": "ad1b418a",
   "metadata": {},
   "outputs": [
    {
     "data": {
      "image/png": "[encoded data removed]",
      "text/plain": [
       "<Figure size 432x288 with 1 Axes>"
      ]
     },
     "metadata": {
      "needs_background": "light"
     },
     "output_type": "display_data"
    }
   ],
   "source": [
    "clustered_bar_graph(month,mean,median,std)"
   ]
  },
  {
   "cell_type": "code",
   "execution_count": 128,
   "id": "3a141d61",
   "metadata": {},
   "outputs": [],
   "source": [
    "mean = df.groupby(['AP004']).mean()['CR009']\n",
    "median = df.groupby(['AP004']).median()['CR009']\n",
    "std = df.groupby(['AP004']).std()['CR009']\n",
    "month = df['AP004'].unique().tolist()"
   ]
  },
  {
   "cell_type": "code",
   "execution_count": 129,
   "id": "b2d4abac",
   "metadata": {},
   "outputs": [
    {
     "data": {
      "text/plain": [
       "AP004\n",
       "3     33519.151026\n",
       "6     33128.604941\n",
       "9     31960.497182\n",
       "12    35488.619569\n",
       "Name: CR009, dtype: float64"
      ]
     },
     "execution_count": 129,
     "metadata": {},
     "output_type": "execute_result"
    }
   ],
   "source": [
    "mean"
   ]
  },
  {
   "cell_type": "code",
   "execution_count": 122,
   "id": "3ed0ac5a",
   "metadata": {},
   "outputs": [
    {
     "data": {
      "text/plain": [
       "[14994.5, 15300.0, 16000.0, 17600.0]"
      ]
     },
     "execution_count": 122,
     "metadata": {},
     "output_type": "execute_result"
    }
   ],
   "source": [
    "median"
   ]
  },
  {
   "cell_type": "code",
   "execution_count": 123,
   "id": "31df1e78",
   "metadata": {},
   "outputs": [
    {
     "data": {
      "text/plain": [
       "[69327.68061784683, 62897.68251414361, 59941.04068408279, 63456.70515573326]"
      ]
     },
     "execution_count": 123,
     "metadata": {},
     "output_type": "execute_result"
    }
   ],
   "source": [
    "std"
   ]
  },
  {
   "cell_type": "code",
   "execution_count": 124,
   "id": "792ac728",
   "metadata": {},
   "outputs": [
    {
     "data": {
      "text/plain": [
       "[12, 3, 6, 9]"
      ]
     },
     "execution_count": 124,
     "metadata": {},
     "output_type": "execute_result"
    }
   ],
   "source": [
    "month"
   ]
  },
  {
   "cell_type": "code",
   "execution_count": 127,
   "id": "79cb34d1",
   "metadata": {},
   "outputs": [
    {
     "data": {
      "text/plain": [
       "AP004\n",
       "3     4.806327e+09\n",
       "6     3.956118e+09\n",
       "9     3.592928e+09\n",
       "12    4.026753e+09\n",
       "Name: CR009, dtype: float64"
      ]
     },
     "execution_count": 127,
     "metadata": {},
     "output_type": "execute_result"
    }
   ],
   "source": [
    "df.groupby(['AP004'])"
   ]
  },
  {
   "cell_type": "code",
   "execution_count": null,
   "id": "0d8bb406",
   "metadata": {},
   "outputs": [],
   "source": []
  }
 ],
 "metadata": {
  "kernelspec": {
   "display_name": "Python 3",
   "language": "python",
   "name": "python3"
  },
  "language_info": {
   "codemirror_mode": {
    "name": "ipython",
    "version": 3
   },
   "file_extension": ".py",
   "mimetype": "text/x-python",
   "name": "python",
   "nbconvert_exporter": "python",
   "pygments_lexer": "ipython3",
   "version": "3.9.1"
  }
 },
 "nbformat": 4,
 "nbformat_minor": 5
}
